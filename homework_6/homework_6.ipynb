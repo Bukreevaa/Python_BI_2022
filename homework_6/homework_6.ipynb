{
  "nbformat": 4,
  "nbformat_minor": 0,
  "metadata": {
    "colab": {
      "provenance": []
    },
    "kernelspec": {
      "name": "python3",
      "display_name": "Python 3"
    },
    "language_info": {
      "name": "python"
    }
  },
  "cells": [
    {
      "cell_type": "code",
      "execution_count": 49,
      "metadata": {
        "id": "2yGbmdujnVEf"
      },
      "outputs": [],
      "source": [
        "import pandas as pd\n",
        "import re\n",
        "import seaborn as sns\n",
        "import matplotlib.pyplot as plt"
      ]
    },
    {
      "cell_type": "markdown",
      "source": [
        "##First Task\n",
        "Parse the references file with regular expressions and write all ftp links from there into the ftps file"
      ],
      "metadata": {
        "id": "EU7SzLvuo8ru"
      }
    },
    {
      "cell_type": "code",
      "source": [
        "table = pd.read_csv('/content/references.txt', sep='\\t')"
      ],
      "metadata": {
        "id": "U8pY7vhhvlyR"
      },
      "execution_count": 50,
      "outputs": []
    },
    {
      "cell_type": "code",
      "source": [
        "ftp_file = open(\"ftp.txt\", \"w+\")\n",
        "\n",
        "for i in table:\n",
        "    s = table[i].astype('str')\n",
        "    res = s.str.findall(r'^ftp\\..+')\n",
        "    res = list(filter(None, res))\n",
        "    for j in res:\n",
        "        ftps = j[0].split(';')\n",
        "        for k in range(len(ftps) - 1):\n",
        "            ftp_file.write(ftps[k] + '\\n')\n",
        "\n",
        "ftp_file.close()"
      ],
      "metadata": {
        "id": "WeLSCnBFoAFX"
      },
      "execution_count": 51,
      "outputs": []
    },
    {
      "cell_type": "markdown",
      "source": [
        "##Second Task\n",
        "Extract all the numbers from the story 2430 A.D."
      ],
      "metadata": {
        "id": "yQRt16ScpLLU"
      }
    },
    {
      "cell_type": "code",
      "source": [
        "with open('/content/2430AD.txt', 'r') as f:\n",
        "  all_num = []\n",
        "  for line in f.readlines():\n",
        "    num = re.findall(r'\\d{1,}', line)\n",
        "    if len(num) >= 1 :\n",
        "      all_num.append(num)\n",
        "print(all_num)"
      ],
      "metadata": {
        "colab": {
          "base_uri": "https://localhost:8080/"
        },
        "id": "D5P8kPJ0oADB",
        "outputId": "fc21eab2-94c6-414c-8ed8-c0712c57b56c"
      },
      "execution_count": 52,
      "outputs": [
        {
          "output_type": "stream",
          "name": "stdout",
          "text": [
            "[['2430'], ['1969'], ['2430'], ['2430'], ['57', '57'], ['1970', '3', '68', '35', '460', '2430']]\n"
          ]
        }
      ]
    },
    {
      "cell_type": "markdown",
      "source": [
        "##Third Task\n",
        "From the same story, extract all the words that have the letter 'a' in them, no matter the case"
      ],
      "metadata": {
        "id": "mVOaEVaMpWp8"
      }
    },
    {
      "cell_type": "code",
      "source": [
        "with open('/content/2430AD.txt', 'r') as f:\n",
        "  a_words = []\n",
        "  for line in f.readlines():\n",
        "    words = re.findall(r'\\b\\w+?[a]\\w+\\b', line, flags=re.IGNORECASE)\n",
        "    if len(words) >= 1:\n",
        "      for word in words:\n",
        "        a_words.append(word)\n",
        "\n",
        "    #a_words.append(word[0])\n",
        "print(a_words)\n",
        "\n"
      ],
      "metadata": {
        "colab": {
          "base_uri": "https://localhost:8080/"
        },
        "id": "6OhLe75toAAr",
        "outputId": "eeb79210-7fc8-4b2c-e292-59dfc179cd3d"
      },
      "execution_count": 53,
      "outputs": [
        {
          "output_type": "stream",
          "name": "stdout",
          "text": [
            "['dawn', 'have', 'nightmare', 'gleam', 'original', 'personality', 'packed', 'talk', 'said', 'Alvarez', 'said', 'Social', 'eventually', 'character', 'escaped', 'talking', 'irritates', 'past', 'tact', 'Trail', 'was', 'always', 'sparsely', 'have', 'taken', 'Alvarez', 'walking', 'Alvarez', 'was', 'tall', 'rather', 'muscular', 'stairs', 'rampways', 'instance', 'character', 'sunlamps', 'was', 'pale', 'said', 'want', 'can', 'have', 'square', 'space', 'has', 'apartment', 'Rather', 'way', 'said', 'Alvarez', 'Alvarez', 'matter', 'reach', 'peak', 'reach', 'reach', 'goal', 'mankind', 'said', 'that', 'way', 'that', 'against', 'plastic', 'passed', 'saw', 'distance', 'was', 'plankton', 'varieties', 'that', 'far', 'was', 'giant', 'leading', 'large', 'far', 'leading', 'destination', 'was', 'back', 'that', 'thousands', 'had', 'passed', 'was', 'intangible', 'space', 'wall', 'was', 'blank', 'was', 'said', 'Alvarez', 'Inhuman', 'Literally', 'said', 'easy', 'signaled', 'waited', 'disregarded', 'manner', 'was', 'always', 'Cranwitz', 'was', 'waiting', 'same', 'gray', 'hair', 'uneasily', 'May', 'Alvarez', 'Cranwitz', 'was', 'Cranwitz', 'sat', 'Cranwitz', 'remained', 'standing', 'said', 'Alvarez', 'said', 'capacity', 'Representative', 'Representative', 'ready', 'social', 'Cranwitz', 'finally', 'was', 'had', 'clear', 'throat', 'want', 'said', 'have', 'contract', 'standing', 'family', 'has', 'always', 'had', 'said', 'irritably', 'voluntarily', 'Alvarez', 'understand', 'situation', 'what', 'was', 'father', 'really', 'what', 'was', 'last', 'year', 'Cranwitz', 'jaw', 'that', 'rate', 'has', 'year', 'has', 'changed', 'That', 'year', 'year', 'year', 'carry', 'Alvarez', 'was', 'year', 'was', 'said', 'year', 'reached', 'goal', 'rate', 'exactly', 'matches', 'death', 'rate', 'population', 'exactly', 'steady', 'replacement', 'farms', 'steady', 'state', 'stand', 'mankind', 'Because', 'Because', 'creatures', 'Rabbits', 'lizards', 'haven', 'taken', 'What', 'harm', 'What', 'demanded', 'Cranwitz', 'said', 'was', 'Alvarez', 'had', 'heard', 'that', 'said', 'sympathy', 'certain', 'real', 'sympathy', 'was', 'vast', 'care', 'years', 'that', 'dinosaurs', 'have', 'man', 'ignorant', 'can', 'compare', 'real', 'Cranwitz', 'was', 'larger', 'said', 'Cranwitz', 'Year', 'year', 'had', 'many', 'large', 'animals', 'carnivores', 'small', 'plants', 'creatures', 'Alvarez', 'said', 'What', 'wants', 'Mankind', 'against', 'Social', 'persuade', 'against', 'real', 'resistance', 'want', 'really', 'What', 'Alvarez', 'was', 'insinuating', 'Cranwitz', 'sat', 'certain', 'Someday', 'reach', 'Mankind', 'want', 'animals', 'want', 'start', 'variety', 'faded', 'stare', 'said', 'What', 'reached', 'said', 'Cranwitz', 'established', 'abandoned', 'solar', 'capable', 'human', 'Cranwitz', 'said', 'stars', 'Earthlike', 'Alvarez', 'head', 'reach', 'have', 'finally', 'Earth', 'human', 'have', 'made', 'Earth', 'margin', 'starship', 'capable', 'years', 'space', 'Have', 'wasn', 'last', 'said', 'Cranwitz', 'was', 'said', 'Alvarez', 'haven', 'romanticized', 'madness', 'was', 'was', 'reason', 'than', 'half', 'substance', 'war', 'preparations', 'war', 'ran', 'wasted', 'chance', 'tolerated', 'deviants', 'dreaded', 'what', 'called', 'population', 'dreamed', 'reaching', 'escape', 'combination', 'advances', 'that', 'changed', 'case', 'was', 'establishment', 'planetary', 'peace', 'placid', 'humanity', 'peacefully', 'multiplication', 'was', 'advance', 'exactly', 'many', 'Earth', 'many', 'calories', 'reached', 'Earth', 'that', 'many', 'carbon', 'plants', 'each', 'year', 'many', 'animal', 'plants', 'Earth', 'animal', 'Cranwitz', 'finally', 'human', 'Exactly', 'meant', 'animal', 'That', 'way', 'said', 'Alvarez', 'again', 'Cranwitz', 'said', 'replaced', 'placoderms', 'had', 'replaced', 'replaced', 'amphibians', 'replaced', 'mammals', 'last', 'has', 'reached', 'peak', 'Earth', 'bears', 'population', 'human', 'demanded', 'Cranwitz', 'vast', 'face', 'land', 'plants', 'animals', 'what', 'have', 'uninhabited', 'ocean', 'has', 'plankton', 'plankton', 'harvest', 'organic', 'matter', 'plankton', 'said', 'Alvarez', 'war', 'regulated', 'deaths', 'peaceful', 'infants', 'genetically', 'Earth', 'normal', 'brain', 'largest', 'conceivable', 'quantity', 'conceivable', 'matter', 'that', 'brain', 'what', 'heaved', 'exasperation', 'Alvarez', 'calm', 'said', 'destination', 'Perhaps', 'animals', 'Earth', 'was', 'was', 'necessary', 'take', 'chances', 'was', 'wasteful', 'Earth', 'was', 'had', 'had', 'mankind', 'came', 'had', 'learn', 'way', 'was', 'learning', 'had', 'take', 'chances', 'mad', 'mankind', 'has', 'have', 'planet', 'Alvarez', 'paused', 'that', 'said', 'want', 'Cranwitz', 'wants', 'generation', 'that', 'has', 'reached', 'want', 'having', 'reached', 'animals', 'way', 'Cranwitz', 'head', 'take', 'have', 'what', 'human', 'said', 'human', 'human', 'brain', 'what', 'measure', 'can', 'evaluate', 'human', 'brain', 'already', 'have', 'said', 'Alvarez', 'that', 'Earth', 'prepared', 'celebrate', 'year', 'year', 'that', 'planet', 'last', 'goal', 'Shall', 'fan', 'flaw', 'flaw', 'Cranwitz', 'Earth', 'has', 'waiting', 'years', 'wait', 'cannot', 'voluntarily', 'said', 'say', 'that', 'Cranwitz', 'that', 'was', 'reached', 'Cranwitz', 'said', 'imitating', 'say', 'that', 'Alvarez', 'persuaded', 'said', 'Alvarez', 'annoyance', 'Cranwitz', 'can', 'against', 'Whatever', 'that', 'way', 'idealist', 'can', 'that', 'last', 'many', 'Cranwitz', 'Alvarez', 'hand', 'waved', 'said', 'remained', 'Cranwitz', 'Can', 'have', 'day', 'animals', 'stand', 'mankind', 'Alvarez', 'said', 'vast', 'continental', 'human', 'placidly', 'human', 'placidly', 'half', 'carefully', 'made', 'talked', 'heat', 'ran', 'machinery', 'organized', 'libraries', 'varied', 'machinery', 'repaired', 'plankton', 'planetary', 'ocean', 'basked', 'transferred', 'that', 'human', 'wastes', 'gathered', 'irradiated', 'human', 'treated', 'was', 'back', 'ocean', 'was', 'had', 'decades', 'Cranwitz', 'creatures', 'last', 'gaze', 'blade', 'grass', 'last', 'Earth', 'that', 'humans', 'humans', 'seared', 'plants', 'cages', 'animals', 'appropriate', 'vapors', 'last', 'was', 'mankind', 'was', 'Cranwitz', 'departed', 'Cranwitz', 'vapors', 'want', 'that', 'was', 'really', 'Earth', 'inhabitants', 'human', 'brain', 'was', 'Cranwitz', 'unusual', 'universal', 'placidity', 'that', 'meant', 'that', 'had', 'last', 'was', 'had', 'paid', 'fears', 'unallayed', 'That', 'had', 'was', 'had', 'taken', 'was', 'GREATEST', 'Campbell', 'same', 'again', 'years', 'Magazine', 'said', 'was', 'handing', 'that', 'had', 'said', 'necessarily', 'read', 'hadn', 'crazy', 'unable', 'because', 'was', 'ashamed', 'was', 'great', 'man', 'feared', 'jackass', 'taking', 'that', 'had', 'favor', 'many', 'many', 'had', 'case', 'that', 'years', 'have', 'far', 'than', 'years', 'stayed', 'that', 'population', 'Earth', 'estimated', 'rate', 'increase', 'that', 'population', 'years', 'rate', 'Increase', 'can', 'maintained', 'years', 'year', 'human', 'equal', 'total', 'animal', 'Earth', 'that']\n"
          ]
        }
      ]
    },
    {
      "cell_type": "markdown",
      "source": [
        "## Fourth task \n",
        "Extract all exclamatory sentences from the story"
      ],
      "metadata": {
        "id": "cTJcYHatsXme"
      }
    },
    {
      "cell_type": "code",
      "source": [
        "with open('/content/2430AD.txt', 'r') as f:\n",
        "  exclamation = []\n",
        "  for line in f.readlines():\n",
        "    exc= re.findall(r'[^\\.\"]+!', line)\n",
        "    if len(exc) >= 1:\n",
        "       exclamation.append(exc[0])\n",
        "print(exclamation)"
      ],
      "metadata": {
        "colab": {
          "base_uri": "https://localhost:8080/"
        },
        "id": "Fzy1loXCn_-U",
        "outputId": "1cb7fd27-8f71-4d67-ab0a-1fbde089fc66"
      },
      "execution_count": 54,
      "outputs": [
        {
          "output_type": "stream",
          "name": "stdout",
          "text": [
            "['Yes!', 'Literally!', ' There was once a time! Centuries ago!', 'Think, Cranwitz!', 'If we succeed!']\n"
          ]
        }
      ]
    },
    {
      "cell_type": "markdown",
      "source": [
        "##Fifth task \n",
        "Plot a histogram of the length distribution of unique words (not case-sensitive, length from 1) in the text"
      ],
      "metadata": {
        "id": "PLKjqGE4sxaC"
      }
    },
    {
      "cell_type": "code",
      "source": [
        "with open('/content/2430AD.txt', 'r') as f:\n",
        "  unix_word = {}\n",
        "  for line in f.readlines():\n",
        "    words = re.findall(r'[a-z]+?\\b ', line, flags=re.IGNORECASE)\n",
        "    for word in words:\n",
        "      w = word.lower()\n",
        "      w = w.rstrip()\n",
        "      if w not in unix_word.keys():\n",
        "        unix_word[w] = len(w)\n",
        "table_words = pd.DataFrame(list(unix_word.items()),\n",
        "                   columns=['word', 'lenght'])"
      ],
      "metadata": {
        "id": "5RPwueiSn_8Q"
      },
      "execution_count": 55,
      "outputs": []
    },
    {
      "cell_type": "code",
      "source": [
        "sns.distplot(table_words['lenght'], hist=True, kde=False,\n",
        "            color = 'blue',\n",
        "             hist_kws={'edgecolor':'black'})\n",
        "plt.title('Word length distribution')\n",
        "plt.xlabel('words lenght')\n",
        "plt.ylabel('count')"
      ],
      "metadata": {
        "colab": {
          "base_uri": "https://localhost:8080/",
          "height": 366
        },
        "id": "6bD0FgEun_5p",
        "outputId": "91bd15d4-72df-4aac-91bd-ee00a6eee085"
      },
      "execution_count": 56,
      "outputs": [
        {
          "output_type": "stream",
          "name": "stderr",
          "text": [
            "/usr/local/lib/python3.8/dist-packages/seaborn/distributions.py:2619: FutureWarning: `distplot` is a deprecated function and will be removed in a future version. Please adapt your code to use either `displot` (a figure-level function with similar flexibility) or `histplot` (an axes-level function for histograms).\n",
            "  warnings.warn(msg, FutureWarning)\n"
          ]
        },
        {
          "output_type": "execute_result",
          "data": {
            "text/plain": [
              "Text(0, 0.5, 'count')"
            ]
          },
          "metadata": {},
          "execution_count": 56
        },
        {
          "output_type": "display_data",
          "data": {
            "text/plain": [
              "<Figure size 432x288 with 1 Axes>"
            ],
            "image/png": "[encoded data removed]"
          },
          "metadata": {
            "needs_background": "light"
          }
        }
      ]
    },
    {
      "cell_type": "markdown",
      "source": [
        "##Sixth task\n",
        "Make a translator function from Russian to \"brick language\""
      ],
      "metadata": {
        "id": "cdu1ks0Xs9VC"
      }
    },
    {
      "cell_type": "code",
      "source": [
        "def brick_translator (filepath):\n",
        "    translated_text = open('translated_text', 'w+')\n",
        "    dct = {'а': 'ака',\n",
        "         'о': 'око',\n",
        "         'и': 'ики',\n",
        "         \"ы\": \"ыкы\",\n",
        "         \"у\":\"уку\",\n",
        "         \"э\": \"экэ\",\n",
        "         \"я\": \"якя\",\n",
        "         \"ю\":\"юкю\",\n",
        "         \"ё\":\"ёкё\",\n",
        "         \"е\":\"еке\"}\n",
        "    with open(filepath, 'r') as f:\n",
        "        t_word = ''\n",
        "        for line in f.readlines():\n",
        "            words = re.findall(r'[а-я]+?\\b', line, flags=re.IGNORECASE)\n",
        "            \n",
        "            for word in words:\n",
        "                for j in word:\n",
        "                    if j in dct.keys():\n",
        "                        t_word += dct[j]\n",
        "                    else:\n",
        "                        t_word += j\n",
        "                t_word += ' '\n",
        "                translated_text.write(t_word + ' ')\n",
        "        return t_word"
      ],
      "metadata": {
        "id": "0kwDOjZVn_3C"
      },
      "execution_count": 57,
      "outputs": []
    },
    {
      "cell_type": "code",
      "source": [
        "brick_translator ('/content/test.txt')"
      ],
      "metadata": {
        "colab": {
          "base_uri": "https://localhost:8080/",
          "height": 37
        },
        "id": "MCR7LYb5n_yn",
        "outputId": "4231533d-fc07-43c7-a16e-18b121ea3443"
      },
      "execution_count": 58,
      "outputs": [
        {
          "output_type": "execute_result",
          "data": {
            "text/plain": [
              "'Прикивекет экэтоко проковекеркака '"
            ],
            "application/vnd.google.colaboratory.intrinsic+json": {
              "type": "string"
            }
          },
          "metadata": {},
          "execution_count": 58
        }
      ]
    }
  ]
}